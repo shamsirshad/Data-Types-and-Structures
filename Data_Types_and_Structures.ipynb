{
  "nbformat": 4,
  "nbformat_minor": 0,
  "metadata": {
    "colab": {
      "provenance": []
    },
    "kernelspec": {
      "name": "python3",
      "display_name": "Python 3"
    },
    "language_info": {
      "name": "python"
    }
  },
  "cells": [
    {
      "cell_type": "markdown",
      "source": [
        "#**Data Types and Structures Questions**"
      ],
      "metadata": {
        "id": "GvcBFVcGjAPB"
      }
    },
    {
      "cell_type": "markdown",
      "source": [
        "**1. What are data structures, and why are they important ?**\n",
        "\n",
        "Ans : A data structure is a specialized format for organizing, storing, and managing data in a computer so that it can be accessed, modified, and manipulated efficiently. Essentially, a data structure defines the relationship between the data and the operations that can be performed on it. It allows computers to store, process, and retrieve data in a way that optimizes for speed, memory usage, and usability.\n",
        "eg: Arrays, Linked List,Stack, Queue etc.\n",
        "\n",
        "Important :    \n",
        "**Efficiency**: Data structures help ensure that operations are performed as quickly as possible, minimizing both time and space complexity.\n",
        "\n",
        "**Organizing Data:** They provide a framework for organizing data in ways that make sense for the problem at hand.\n",
        "\n",
        "**Foundation for Algorithms:** Algorithms depend on data structures to function correctly and efficiently.\n",
        "\n",
        "**Scalability:** As the amount of data increases, selecting the appropriate data structure allows systems to scale without sacrificing performance."
      ],
      "metadata": {
        "id": "_va95IiBjLzn"
      }
    },
    {
      "cell_type": "markdown",
      "source": [
        "**2.Explain the difference between mutable and immutable data types with examples ?**\n",
        "\n",
        "Ans : **Mutable Data Types :** These are data types whose values or contents can be changed after the object is created.\n",
        "\n",
        "Eg: List,Dictionaries,Sets.\n",
        "\n",
        "Character :    \n",
        " * We can change, add, or remove elements after the object is created.\n",
        " * Modifying the object doesn't create a new object; the original object is altered.\n",
        "\n",
        "**Immutable Data Types :**An immutable data type does not allow you to modify its contents after it has been created. Once an immutable object is created, its value or state cannot be changed. If you try to modify it, a new object is created instead.\n",
        "\n",
        "Eg :   Integers,Float,Strings,Tuples etc.\n",
        "\n",
        "Character :    \n",
        "* Once created, the object cannot be altered.\n",
        "* If we try to modify the object, a new object will be created with the updated value.\n",
        "\n"
      ],
      "metadata": {
        "id": "5T5lea03nCD_"
      }
    },
    {
      "cell_type": "markdown",
      "source": [
        "**3.What are the main differences between lists and tuples in Python ?**\n",
        "\n",
        "Ans : there are several differences between Lists and tuples as follows :  \n",
        "* Lists are Mutaable in Nature, this means it allows user to modify(add,remove or change an element) after creation while tuples are immutable in nature so it does not allow user to modify after creation.\n",
        "*List are defined by using Square Bracket \"[]\" while tuple defined by using paranthesis \"()\".\n",
        "*List are slighly lower than tuples for iteration and access due to the additional overhead assosciated with mutability.\n",
        "* List are used when we need a collection of data that may change over time while Tuple.\n",
        "* Lists have a variety of built-in methods that allow modification of their contents, such as append,extend,insert,remove,move etc while tuples ave fewer built-in methods since they are immutable. They only support methods like count,index.\n"
      ],
      "metadata": {
        "id": "EtGl13_7pZ5H"
      }
    },
    {
      "cell_type": "markdown",
      "source": [
        "**4.Describe how dictionaries store data ?**\n",
        "\n",
        "Ans :    In Python, a dictionary is an unordered collection of key-value pairs. Dictionaries are implemented using hash tables, a highly efficient data structure that allows for fast lookups, insertions, and deletions.\n",
        "\n",
        "* Key-Value Pair: A dictionary stores data as key-value pairs, where each key maps to a value.\n",
        "* Hashing: The key is hashed to determine its index in an internal array (hash table).\n",
        "* Efficiency: Dictionary operations (lookup, insertion, deletion) are generally O(1), thanks to the hash table structure.\n",
        "* Collision Handling: Hash collisions are handled using techniques like open addressing and rehashing.\n",
        "* Dynamic Resizing: The dictionary resizes automatically when it reaches a certain threshold of load."
      ],
      "metadata": {
        "id": "K7pfw_VltYxl"
      }
    },
    {
      "cell_type": "markdown",
      "source": [
        "**5.Why might you use a set instead of a list in Python ?**\n",
        "\n",
        "Ans :    If we have a collection with potential duplicates and want to quickly remove them, converting the collection to a set is an efficient way to do so, as the set will automatically discard duplicates.Sets support powerful built-in operations like union, intersection, difference, and symmetric difference, which are very useful in mathematical or logical operations.In some case if order of element is not important than set can be used to store data with more efficient and faster execution."
      ],
      "metadata": {
        "id": "YHQFJbgI9AsQ"
      }
    },
    {
      "cell_type": "markdown",
      "source": [
        "**6.What is a string in Python, and how is it different from a list ?**\n",
        "\n",
        "Ans :    In Python, a string is a sequence of characters enclosed within either single quotes (') or double quotes (\"). Strings are one of the most commonly used data types in Python, and they are immutable, meaning that once created, their values cannot be changed.string can contain letters, numbers, special characters, or spaces. Strings in Python support various operations such as concatenation, slicing, and formatting.\n",
        "\n",
        "* String are immutable meaning that it can not be changes once created.if any operation tries to modify the string this will create new object while list are mutable meaning that it can be midify,add,remove after the creation as well.\n",
        "* String is a sequence of character,we can not store different data types like integer,float,list etc while list can contains multiple data types or can mixed data type.\n",
        "* each iteration gives a character in String while iteration but in list each iteration gives an element which can be of any type.\n",
        "\n"
      ],
      "metadata": {
        "id": "DHPkRXrr-Pqi"
      }
    },
    {
      "cell_type": "markdown",
      "source": [
        "**7. How do tuples ensure data integrity in Python ?**\n",
        "\n",
        "Ans :    Tuples are immutable,Once created, tuples cannot be modified. This ensures that the data remains unchanged and consistent, preventing accidental modifications.Since tuples cannot be modified, they are safer in multi-threaded environments, where shared data integrity is crucial.Since tuples cannot be modified, they are safer in multi-threaded environments, where shared data integrity is crucial.Tuples maintain data integrity when used in packing and unpacking operations, ensuring that the original data is not altered during the process."
      ],
      "metadata": {
        "id": "ngtRl1_kBHEo"
      }
    },
    {
      "cell_type": "markdown",
      "source": [
        "**8.What is a hash table, and how does it relate to dictionaries in Python ?**\n",
        "\n",
        "Ans :    A hash table (or hash map) is a data structure that stores key-value pairs and allows for efficient retrieval of values based on their keys. It works by hashing the key, which means converting the key into a fixed-size value (typically an integer) using a hash function. This hash value is then used as an index to store the corresponding value in an underlying array or table.\n",
        "\n",
        "In Python, dictionaries are implemented using hash tables. This means that when you use a dictionary to store data, Python uses a hash table internally to manage and quickly access the key-value pairs.By using hash tables, Python dictionaries are able to provide an efficient, fast, and flexible way to store and retrieve key-value pairs, making them one of the most commonly used data structures in Python programming."
      ],
      "metadata": {
        "id": "Prqz-Ea7B7fW"
      }
    },
    {
      "cell_type": "markdown",
      "source": [
        "**9.Can lists contain different data types in Python ?**\n",
        "\n",
        "\n",
        "Ans :    Yes, lists in Python can contain different data types. Unlike arrays in some other languages, Python lists are heterogeneous, meaning they can hold a mix of different types of data, such as integers, strings, floats, booleans, and even other lists or objects."
      ],
      "metadata": {
        "id": "nSpWPVQKCp-v"
      }
    },
    {
      "cell_type": "markdown",
      "source": [
        "**10.Explain why strings are immutable in Python ?**\n",
        "\n",
        "Ans :    In Python, strings are immutable, meaning that once a string is created, its contents cannot be changed. This behavior is an important feature of strings in Python and serves several practical and performance-related purposes.\n",
        "\n",
        "* Memory Efficiency: Strings are stored efficiently and can be reused through interning, saving memory.\n",
        "* Performance Optimization: Immutability allows Python to optimize operations like hashing, string concatenation, and interpolation.\n",
        "* Safety in Concurrency: Since strings cannot be modified, they are inherently thread-safe and can be safely shared between threads.\n",
        "* Simplicity and Predictability: Immutability simplifies understanding the behavior of strings and eliminates issues like unintended side effects.\n",
        "* Error Reduction: It prevents accidental modification of strings, making the program more reliable and predictable.\n",
        "\n",
        "In conclusion, the immutability of strings in Python offers significant advantages in terms of performance, memory optimization, and program safety, making them an essential and powerful feature of the language."
      ],
      "metadata": {
        "id": "CTTR54SOC7DN"
      }
    },
    {
      "cell_type": "markdown",
      "source": [
        "**11.What advantages do dictionaries offer over lists for certain tasks ?**\n",
        "\n",
        "Ans :   \n",
        " * Dictionaries enforce unique keys, which means user can't store duplicate keys. This is useful when we need to ensure each key is only associated with one value, while list allows user to store duplicate element.\n",
        "\n",
        " * Dictionaries allow for more intuitive and clear code when we need to store and access data based on a specific key (e.g., \"name\", \"id\", \"email\"). This makes the code easier to read and understand, while Lists require more complex or indirect approaches to achieve similar functionality, such as storing tuples or objects within lists and iterating through them.\n",
        " * Allow user for fast lookups by unique identifiers (Key).\n",
        ""
      ],
      "metadata": {
        "id": "fwBtru7kEKWJ"
      }
    },
    {
      "cell_type": "markdown",
      "source": [
        "**12. Describe a scenario where using a tuple would be preferable over a list ?**\n",
        "\n",
        "Ans :    **Immutability Ensures Data Integrity :** Co-ordinates should not be accidentally altered during the execution of your program. If we use a tuple, we can ensure that once the coordinates are set, they cannot be modified. This helps maintain the integrity of the data, preventing accidental changes.\n",
        "\n",
        "**Performance :** Tuples are generally more memory efficient and slightly faster than lists, especially when the data is not supposed to change. The immutability of tuples makes them more lightweight in terms of memory usage and access speed.\n",
        "\n",
        "**Clarity of intent :** When we want to convey the idea that the data is not meant to change.\n",
        "\n",
        "**Fixed data :** When we need to store data that should not be modified once set."
      ],
      "metadata": {
        "id": "Hefn8xlOgNGh"
      }
    },
    {
      "cell_type": "markdown",
      "source": [
        "**13.  How do sets handle duplicate values in Python ?**\n",
        "\n",
        "Ans :   If we try to add an element to a set that already contains that element, the set will not add the duplicate value and will leave the set unchanged.A set cannot contain two or more identical values. This ensures that all the elements in a set are unique."
      ],
      "metadata": {
        "id": "SMqXrU9JhWBW"
      }
    },
    {
      "cell_type": "markdown",
      "source": [
        "**14.How does the “in” keyword work differently for lists and dictionaries ?**\n",
        "\n",
        "Ans :    \"in\" Keyword works differently for each data structure. \"in\" Keywords check the Specific value List. it returns True if value exists anywhere in List, otherwise False. For dictionaries, in checks if a key exists in the dictionary. If we want to check if a value exists in a dictionary, we need to use .values() to check against the values in the dictionary."
      ],
      "metadata": {
        "id": "knTwFWfVh4O1"
      }
    },
    {
      "cell_type": "markdown",
      "source": [
        "**15. Can you modify the elements of a tuple? Explain why or why not ?**\n",
        "\n",
        "Ans :    No, we cannot modify the elements of a tuple in Python once it has been created. This is because tuples are immutable.Any operation that tries to modify the tuple itself (like changing an element) will raise an error.The immutability of tuples provides performance benefits and ensures data integrity.However, if a tuple contains a mutable object (like a list), that object can still be modified, but the tuple itself cannot be changed."
      ],
      "metadata": {
        "id": "wIYnMf95kQew"
      }
    },
    {
      "cell_type": "markdown",
      "source": [
        "**16. What is a nested dictionary, and give an example of its use case ?**\n",
        "\n",
        "Ans :    A nested dictionary in Python is a dictionary inside another dictionary. In simple terms, it's a dictionary where some of the values are themselves dictionaries. This structure allows us to organize data in a hierarchical way, making it useful for representing more complex data, like records or configurations.\n",
        "\n",
        "Example:\n",
        "\n",
        "imagine you are storing contact information for different people, where each person has their own name, phone number, and address. Using a nested dictionary would be a good way to store this data.\n",
        "\n",
        " * The outer dictionary contacts has the names (\"John\", \"Alice\", \"Bob\") as keys.\n",
        " * The value for each name is another dictionary that stores phone and address as keys, each with corresponding values."
      ],
      "metadata": {
        "id": "IM7oi7WylC17"
      }
    },
    {
      "cell_type": "markdown",
      "source": [
        "**17.Describe the time complexity of accessing elements in a dictionary ?**\n",
        "\n",
        "Ans :    **Average Time Complexity :**In the average case, accessing an element in a dictionary (using the key) is done in constant time. This means that regardless of the size of the dictionary, accessing a value using its key will take the same amount of time. This is the result of the dictionary's underlying hash table structure.\n",
        "\n",
        "**Worst-case Time Complexity: O(n)**\n",
        "\n",
        "In the worst case, the time complexity of accessing an element in a dictionary can be O(n), where n is the number of items in the dictionary. This occurs in scenarios like:\n",
        "\n",
        "* Hash Collisions: When many keys in the dictionary hash to the same index (i.e., hash collisions), the dictionary may store these keys in a list at that index. In this case, accessing the key would require checking each item in the list, resulting in linear time complexity.\n",
        "\n",
        "* Rehashing: When the dictionary grows beyond a certain threshold, Python might rehash the entire dictionary (i.e., resize and redistribute the entries). This rehashing operation can affect the performance of access temporarily, although it typically happens infrequently.\n",
        "\n",
        "**Amortized Time Complexity: O(1)**\n",
        "\n",
        "In practice, Python's dictionary provides amortized constant time O(1) for lookups. This means that while the worst case can occasionally be O(n), the average performance remains O(1) over a large number of operations."
      ],
      "metadata": {
        "id": "xwTH4gbmnwmj"
      }
    },
    {
      "cell_type": "markdown",
      "source": [
        "**18.In what situations are lists preferred over dictionaries ?**\n",
        "\n",
        "Ans :    Lists are preferred when:\n",
        "\n",
        "* we need to maintain the order of elements.\n",
        "* We need to access elements by their index.\n",
        "* we need to store a sequence of related items, especially when the items are of the same type.\n",
        "* we need to perform sequential operations like iteration.\n",
        "* we need to modify elements frequently (add, update, remove).\n",
        "* we don’t need the complexity of key-value pair mapping.\n",
        "\n",
        "In contrast, dictionaries are preferred when you need fast lookups, mapping of values to keys, or if you need to store pairs of related data."
      ],
      "metadata": {
        "id": "NnUCboHChRIQ"
      }
    },
    {
      "cell_type": "markdown",
      "source": [
        "**19. Why are dictionaries considered unordered, and how does that affect data retrieval ?**\n",
        "\n",
        "Ans :    Dictionaries are unordered because their elements are stored based on hash values, not insertion order.Data retrieval by key is efficient (O(1)), regardless of the order of insertion.Iteration order of items in a dictionary was not guaranteed until Python 3.7, where insertion order is maintained, but it still doesn't affect retrieval by key.\n",
        "The unordered nature of dictionaries makes them ideal for fast lookups, but if we need ordered data, we should not rely on the order unless you're using Python 3.7 or later (and even then, dictionaries themselves are not guaranteed to be used for ordered data in all cases).\n",
        "\n",
        "In summary, the unordered nature of dictionaries affects the order of items when iterating through them, but does not affect the efficiency or method of accessing data by key."
      ],
      "metadata": {
        "id": "AXSO2UsXiVoN"
      }
    },
    {
      "cell_type": "markdown",
      "source": [
        "**20.Explain the difference between a list and a dictionary in terms of data retrieval ?**\n",
        "\n",
        "* A list is an ordered collection of elements indexed by integers. The elements are stored in a sequential manner, and each element has a corresponding index (starting from 0) while a dictionary is an unordered collection of key-value pairs. Each element in a dictionary consists of a unique key (which can be a string, number, or other immutable types) and an associated value.\n",
        "\n",
        "* in List, Data is retrieved using indexing. We can access an element in a list by its position (or index) within the list. The index is an integer, starting from 0 but in Dictonary,Data is retrieved using keys, which are typically unique identifiers. we use the key to access the associated value.\n",
        "\n",
        "* Lists allow duplicate values. Multiple elements in a list can have the same value, and we can retrieve the first occurrence of a value by index but Dictionaries do not allow duplicate keys. Each key in a dictionary must be unique, but we can have multiple keys with the same value. When we retrieve a value by key, We are guaranteed to get a single value for each unique key.\n",
        "* Lists are best suited when you need to access data by position (index) and maintain an ordered sequence of items.\n",
        "Dictionaries are best when you need to associate unique keys with corresponding values, and you want efficient lookups by key. The retrieval process is based on keys, and the order of insertion doesn't impact how you retrieve values by their key."
      ],
      "metadata": {
        "id": "15T7sc_XkfKM"
      }
    },
    {
      "cell_type": "markdown",
      "source": [
        "# **Practical Questions**"
      ],
      "metadata": {
        "id": "39QSIFO0mDqV"
      }
    },
    {
      "cell_type": "markdown",
      "source": [
        "**1. Write a code to create a string with your name and print it ?**"
      ],
      "metadata": {
        "id": "c6F-gNbEmMCW"
      }
    },
    {
      "cell_type": "code",
      "source": [
        "my_name = \"Md Shams Irshad\"\n",
        "print(my_name,type(my_name))"
      ],
      "metadata": {
        "colab": {
          "base_uri": "https://localhost:8080/"
        },
        "id": "SIueU_k7maj8",
        "outputId": "d2d3af42-4b37-47ec-c65d-760c94a389f0"
      },
      "execution_count": 3,
      "outputs": [
        {
          "output_type": "stream",
          "name": "stdout",
          "text": [
            "Md Shams Irshad <class 'str'>\n"
          ]
        }
      ]
    },
    {
      "cell_type": "markdown",
      "source": [
        "**2.Write a code to find the length of the string \"Hello World\" ?**"
      ],
      "metadata": {
        "id": "lhxmgA12nUN1"
      }
    },
    {
      "cell_type": "code",
      "source": [
        "print(\"Length of Hello World is :\",len(\"Hello World\"))"
      ],
      "metadata": {
        "colab": {
          "base_uri": "https://localhost:8080/"
        },
        "id": "ayjkQKRwm-IQ",
        "outputId": "628f7c39-0c01-4ac8-e620-cccfde6aae46"
      },
      "execution_count": 13,
      "outputs": [
        {
          "output_type": "stream",
          "name": "stdout",
          "text": [
            "Length of Hello World is : 11\n"
          ]
        }
      ]
    },
    {
      "cell_type": "markdown",
      "source": [
        "**3.Write a code to slice the first 3 characters from the string \"Python Programming\" ?**"
      ],
      "metadata": {
        "id": "nbJqsfsgoyLZ"
      }
    },
    {
      "cell_type": "code",
      "source": [
        "string=\"Python Programming\"\n",
        "New_string=string[0:3]\n",
        "print(\"Sliced First 3 Character of Python Programming are :\",New_string)"
      ],
      "metadata": {
        "colab": {
          "base_uri": "https://localhost:8080/"
        },
        "id": "Ap2I7K7To2B6",
        "outputId": "54aa58e8-1f8b-4ee4-f4e1-8f55ab8b1418"
      },
      "execution_count": 19,
      "outputs": [
        {
          "output_type": "stream",
          "name": "stdout",
          "text": [
            "Sliced First 3 Character of Python Programming are : Pyt\n"
          ]
        }
      ]
    },
    {
      "cell_type": "markdown",
      "source": [
        "**4. Write a code to convert the string \"hello\" to uppercase ?**"
      ],
      "metadata": {
        "id": "vMyh4UG1p9T9"
      }
    },
    {
      "cell_type": "code",
      "source": [
        "string=\"hello\"\n",
        "print(\"Uppercase of hello is :\",string.upper())"
      ],
      "metadata": {
        "colab": {
          "base_uri": "https://localhost:8080/"
        },
        "id": "PYCFcSQgpT8C",
        "outputId": "6660ba40-1858-402e-a430-c2a7ffd4c507"
      },
      "execution_count": 20,
      "outputs": [
        {
          "output_type": "stream",
          "name": "stdout",
          "text": [
            "Uppercase of hello is : HELLO\n"
          ]
        }
      ]
    },
    {
      "cell_type": "markdown",
      "source": [
        "**5. Write a code to replace the word \"apple\" with \"orange\" in the string \"I like apple ?**"
      ],
      "metadata": {
        "id": "lB5Xhx45qdpa"
      }
    },
    {
      "cell_type": "code",
      "source": [
        "string=\"I like apple\"\n",
        "print(\"After replacing apple with orange :\",string.replace(\"apple\",\"orange\"))"
      ],
      "metadata": {
        "colab": {
          "base_uri": "https://localhost:8080/"
        },
        "id": "lv1-ilpyqLuU",
        "outputId": "42c2967e-502c-430b-b55e-71b44d293f37"
      },
      "execution_count": 21,
      "outputs": [
        {
          "output_type": "stream",
          "name": "stdout",
          "text": [
            "After replacing apple with orange : I like orange\n"
          ]
        }
      ]
    },
    {
      "cell_type": "markdown",
      "source": [
        "**6. Write a code to create a list with numbers 1 to 5 and print it ?**"
      ],
      "metadata": {
        "id": "0yj4vLetqxgB"
      }
    },
    {
      "cell_type": "code",
      "source": [
        "list = [1,2,3,4,5]\n",
        "print(\"Number are as Follows :\")\n",
        "for number in list:\n",
        "  print(number)"
      ],
      "metadata": {
        "colab": {
          "base_uri": "https://localhost:8080/"
        },
        "id": "sXtD-hPtqqPY",
        "outputId": "3c2f6d6a-ba4c-4f3c-c0d3-7b87d6f058aa"
      },
      "execution_count": 28,
      "outputs": [
        {
          "output_type": "stream",
          "name": "stdout",
          "text": [
            "Number are as Follows :\n",
            "1\n",
            "2\n",
            "3\n",
            "4\n",
            "5\n"
          ]
        }
      ]
    },
    {
      "cell_type": "markdown",
      "source": [
        "**7.Write a code to append the number 10 to the list [1, 2, 3, 4] ?**"
      ],
      "metadata": {
        "id": "cK5LJsOmsYhy"
      }
    },
    {
      "cell_type": "code",
      "source": [
        "list = [1,2,3,4]\n",
        "list.append(10)\n",
        "print(\"After Appending 10 :\",list)"
      ],
      "metadata": {
        "colab": {
          "base_uri": "https://localhost:8080/"
        },
        "id": "9Nmj6i0_rpLu",
        "outputId": "ec3f94ee-e773-4a78-a499-3ac5f81d58a2"
      },
      "execution_count": 29,
      "outputs": [
        {
          "output_type": "stream",
          "name": "stdout",
          "text": [
            "After Appending 10 : [1, 2, 3, 4, 10]\n"
          ]
        }
      ]
    },
    {
      "cell_type": "markdown",
      "source": [
        "**8.Write a code to remove the number 3 from the list [1, 2, 3, 4, 5] ?**"
      ],
      "metadata": {
        "id": "zrChklDPsodG"
      }
    },
    {
      "cell_type": "code",
      "source": [
        "list = [1,2,3,4,5]\n",
        "list.remove(3)\n",
        "print(\"After Removing 3 :\",list)"
      ],
      "metadata": {
        "colab": {
          "base_uri": "https://localhost:8080/"
        },
        "id": "onPfLJOzslgP",
        "outputId": "29af2659-7d9d-4f1d-c22b-8409cbc5444c"
      },
      "execution_count": 30,
      "outputs": [
        {
          "output_type": "stream",
          "name": "stdout",
          "text": [
            "After Removing 3 : [1, 2, 4, 5]\n"
          ]
        }
      ]
    },
    {
      "cell_type": "markdown",
      "source": [
        "**9.Write a code to access the second element in the list ['a', 'b', 'c', 'd'] ?**"
      ],
      "metadata": {
        "id": "GH7EyQwns5J_"
      }
    },
    {
      "cell_type": "code",
      "source": [
        "list = ['a','b','c','d']\n",
        "print(\"Second Element of List is :\",list[1])"
      ],
      "metadata": {
        "colab": {
          "base_uri": "https://localhost:8080/"
        },
        "id": "RMB8CUkdsz7A",
        "outputId": "767d9801-75e0-46f6-85e4-6b0f85b55943"
      },
      "execution_count": 31,
      "outputs": [
        {
          "output_type": "stream",
          "name": "stdout",
          "text": [
            "Second Element of List is : b\n"
          ]
        }
      ]
    },
    {
      "cell_type": "markdown",
      "source": [
        "**10. Write a code to reverse the list [10, 20, 30, 40, 50] ?**"
      ],
      "metadata": {
        "id": "bjBPtHaWtJ6_"
      }
    },
    {
      "cell_type": "code",
      "source": [
        "list = [10,20,30,40,50]\n",
        "print(\"Reversed List is :\",list[::-1])"
      ],
      "metadata": {
        "colab": {
          "base_uri": "https://localhost:8080/"
        },
        "id": "sCm-sKurtEZ0",
        "outputId": "f0eef6cb-4a98-4adb-bfdd-e42f924db50a"
      },
      "execution_count": 32,
      "outputs": [
        {
          "output_type": "stream",
          "name": "stdout",
          "text": [
            "Reversed List is : [50, 40, 30, 20, 10]\n"
          ]
        }
      ]
    },
    {
      "cell_type": "markdown",
      "source": [
        "**11. Write a code to create a tuple with the elements 10, 20, 30 and print it ?**"
      ],
      "metadata": {
        "id": "EOZDZLaNtWac"
      }
    },
    {
      "cell_type": "code",
      "source": [
        "Tuple = (10,20,30)\n",
        "print(\"Tuple is :\",Tuple)"
      ],
      "metadata": {
        "colab": {
          "base_uri": "https://localhost:8080/"
        },
        "id": "_JVbV-RMtTVi",
        "outputId": "f1091e35-2bff-4941-9210-013eef084452"
      },
      "execution_count": 35,
      "outputs": [
        {
          "output_type": "stream",
          "name": "stdout",
          "text": [
            "Tuple is : (10, 20, 30)\n"
          ]
        }
      ]
    },
    {
      "cell_type": "markdown",
      "source": [
        "**12. Write a code to access the first element of the tuple ('apple', 'banana', 'cherry') ?**"
      ],
      "metadata": {
        "id": "4h3Ec7JUt-7O"
      }
    },
    {
      "cell_type": "code",
      "source": [
        "tuple = ('apple','banana','cherry')\n",
        "print(\"First Element of Tuple is :\",tuple[0])"
      ],
      "metadata": {
        "colab": {
          "base_uri": "https://localhost:8080/"
        },
        "id": "XOo34s05toMD",
        "outputId": "b8ee4139-abb3-4f24-9490-847f6a595e43"
      },
      "execution_count": 36,
      "outputs": [
        {
          "output_type": "stream",
          "name": "stdout",
          "text": [
            "First Element of Tuple is : apple\n"
          ]
        }
      ]
    },
    {
      "cell_type": "markdown",
      "source": [
        "**13. Write a code to count how many times the number 2 appears in the tuple (1, 2, 3, 2, 4, 2) ?**"
      ],
      "metadata": {
        "id": "1IxDXwdXuKBG"
      }
    },
    {
      "cell_type": "code",
      "source": [
        "tuple = (1,2,3,2,4,2)\n",
        "print(\"Number 2 Appears\",tuple.count(2),\"Times in our tuple\")"
      ],
      "metadata": {
        "colab": {
          "base_uri": "https://localhost:8080/"
        },
        "id": "A7ghIhOUuHRt",
        "outputId": "06a431d3-883d-49dd-fc2a-65355a55191e"
      },
      "execution_count": 38,
      "outputs": [
        {
          "output_type": "stream",
          "name": "stdout",
          "text": [
            "Number 2 Appears 3 Times in our tuple\n"
          ]
        }
      ]
    },
    {
      "cell_type": "markdown",
      "source": [
        "**14. Write a code to find the index of the element \"cat\" in the tuple ('dog', 'cat', 'rabbit') ?**"
      ],
      "metadata": {
        "id": "SMAO2Ietud98"
      }
    },
    {
      "cell_type": "code",
      "source": [
        "tuple = ('dog','cat','rabbit')\n",
        "print(\"Index of cat is :\",tuple.index('cat'))"
      ],
      "metadata": {
        "colab": {
          "base_uri": "https://localhost:8080/"
        },
        "id": "rzcSr98vuVQ-",
        "outputId": "1f4b58b2-b9bf-4a5a-c466-103720cd9d14"
      },
      "execution_count": 39,
      "outputs": [
        {
          "output_type": "stream",
          "name": "stdout",
          "text": [
            "Index of cat is : 1\n"
          ]
        }
      ]
    },
    {
      "cell_type": "markdown",
      "source": [
        "**15.Write a code to check if the element \"banana\" is in the tuple ('apple', 'orange', 'banana') ?**"
      ],
      "metadata": {
        "id": "xoXvaq8duwY5"
      }
    },
    {
      "cell_type": "code",
      "source": [
        "tuple = ('apple','orange','banana')\n",
        "if 'banana' in tuple:\n",
        "  print(\"Yes,banana is in tuple\")\n",
        "else:\n",
        "  print(\"No, banana is not in tuple\")"
      ],
      "metadata": {
        "colab": {
          "base_uri": "https://localhost:8080/"
        },
        "id": "g06OwAm0usBA",
        "outputId": "5590e559-d3fa-4b92-823d-fd47fa847c8d"
      },
      "execution_count": 40,
      "outputs": [
        {
          "output_type": "stream",
          "name": "stdout",
          "text": [
            "Yes,banana is in tuple\n"
          ]
        }
      ]
    },
    {
      "cell_type": "markdown",
      "source": [
        "**16.Write a code to create a set with the elements 1, 2, 3, 4, 5 and print it ?**"
      ],
      "metadata": {
        "id": "kjsFq-BFvBMQ"
      }
    },
    {
      "cell_type": "code",
      "source": [
        "set = {1,2,3,4,5}\n",
        "print(\"Set is :\",set)"
      ],
      "metadata": {
        "colab": {
          "base_uri": "https://localhost:8080/"
        },
        "id": "fgi6vmxNu_lV",
        "outputId": "f871cb41-54a4-409a-f6a1-18fd6250ea09"
      },
      "execution_count": 41,
      "outputs": [
        {
          "output_type": "stream",
          "name": "stdout",
          "text": [
            "Set is : {1, 2, 3, 4, 5}\n"
          ]
        }
      ]
    },
    {
      "cell_type": "markdown",
      "source": [
        "**17.Write a code to add the element 6 to the set {1, 2, 3, 4} ?**"
      ],
      "metadata": {
        "id": "ZsrBs5P2vTPT"
      }
    },
    {
      "cell_type": "code",
      "source": [
        "set = {1,2,3,4}\n",
        "set.add(6)\n",
        "print(\"After Adding 6 :\",set)"
      ],
      "metadata": {
        "colab": {
          "base_uri": "https://localhost:8080/"
        },
        "id": "q5TplG55vMBr",
        "outputId": "156682e8-c21f-4935-f967-e6e7416e0f4b"
      },
      "execution_count": 44,
      "outputs": [
        {
          "output_type": "stream",
          "name": "stdout",
          "text": [
            "After Adding 6 : {1, 2, 3, 4, 6}\n"
          ]
        }
      ]
    },
    {
      "cell_type": "markdown",
      "source": [
        "**18. Write a code to create a tuple with the elements 10, 20, 30 and print it ?**"
      ],
      "metadata": {
        "id": "pzPY0supv0Zp"
      }
    },
    {
      "cell_type": "code",
      "source": [
        "tuple = (10,20,30)\n",
        "print(\"Tuple is :\",tuple)"
      ],
      "metadata": {
        "colab": {
          "base_uri": "https://localhost:8080/"
        },
        "id": "CN7zw89Fvdi8",
        "outputId": "de12382d-f5bb-4fbf-b089-61ead2242432"
      },
      "execution_count": 45,
      "outputs": [
        {
          "output_type": "stream",
          "name": "stdout",
          "text": [
            "Tuple is : (10, 20, 30)\n"
          ]
        }
      ]
    },
    {
      "cell_type": "markdown",
      "source": [
        "**19.Write a code to access the first element of the tuple ('apple', 'banana', 'cherry') ?**"
      ],
      "metadata": {
        "id": "jP5jSqaJwB1v"
      }
    },
    {
      "cell_type": "code",
      "source": [
        "tuple = ('apple','banana','cherry')\n",
        "print(\"First Element of Tuple is :\",tuple[0])"
      ],
      "metadata": {
        "colab": {
          "base_uri": "https://localhost:8080/"
        },
        "id": "F3kOPgYGv8CI",
        "outputId": "0a67ed7d-6d50-4425-b467-87ca62306c4c"
      },
      "execution_count": 46,
      "outputs": [
        {
          "output_type": "stream",
          "name": "stdout",
          "text": [
            "First Element of Tuple is : apple\n"
          ]
        }
      ]
    },
    {
      "cell_type": "markdown",
      "source": [
        "**20. Write a code to count how many times the number 2 appears in the tuple (1, 2, 3, 2, 4, 2) ?**"
      ],
      "metadata": {
        "id": "rMvU0BaOwKhe"
      }
    },
    {
      "cell_type": "code",
      "source": [
        "tuple = (1,2,3,2,4,2)\n",
        "print(\"Number 2 Appears\",tuple.count(2),\"Times in our tuple\")"
      ],
      "metadata": {
        "colab": {
          "base_uri": "https://localhost:8080/"
        },
        "id": "T0crZ8_FwImY",
        "outputId": "259a5f55-394e-4dfb-d572-27876ea02781"
      },
      "execution_count": 47,
      "outputs": [
        {
          "output_type": "stream",
          "name": "stdout",
          "text": [
            "Number 2 Appears 3 Times in our tuple\n"
          ]
        }
      ]
    },
    {
      "cell_type": "markdown",
      "source": [
        "**21.Write a code to find the index of the element \"cat\" in the tuple ('dog', 'cat', 'rabbit') ?**"
      ],
      "metadata": {
        "id": "EbyzoiIJwVyR"
      }
    },
    {
      "cell_type": "code",
      "source": [
        "tuple = ('dog','cat','rabbit')\n",
        "print(\"Index of cat is :\",tuple.index('cat'))"
      ],
      "metadata": {
        "colab": {
          "base_uri": "https://localhost:8080/"
        },
        "id": "OjRowFYawT4I",
        "outputId": "2b311bd9-f466-4406-bc08-5dc2d9c4bc5f"
      },
      "execution_count": 48,
      "outputs": [
        {
          "output_type": "stream",
          "name": "stdout",
          "text": [
            "Index of cat is : 1\n"
          ]
        }
      ]
    },
    {
      "cell_type": "markdown",
      "source": [
        "**22.  Write a code to check if the element \"banana\" is in the tuple ('apple', 'orange', 'banana') ?**"
      ],
      "metadata": {
        "id": "sc5rVgHLwg7i"
      }
    },
    {
      "cell_type": "code",
      "source": [
        "tuple = ('apple','orange','banana')\n",
        "if 'banana' in tuple:\n",
        "  print(\"Yes,banana is in tuple\")\n",
        "else:\n",
        "  print(\"No, banana is not in tuple\")"
      ],
      "metadata": {
        "colab": {
          "base_uri": "https://localhost:8080/"
        },
        "id": "A1n7ToDewfsI",
        "outputId": "0da1d27b-b31d-4ed7-f144-9519cbd19900"
      },
      "execution_count": 49,
      "outputs": [
        {
          "output_type": "stream",
          "name": "stdout",
          "text": [
            "Yes,banana is in tuple\n"
          ]
        }
      ]
    },
    {
      "cell_type": "markdown",
      "source": [
        "**23. Write a code to create a set with the elements 1, 2, 3, 4, 5 and print it ?**"
      ],
      "metadata": {
        "id": "bgZ63prsw0Ix"
      }
    },
    {
      "cell_type": "code",
      "source": [
        "set = {1,2,3,4,5}\n",
        "print(\"Set is :\",set)"
      ],
      "metadata": {
        "colab": {
          "base_uri": "https://localhost:8080/"
        },
        "id": "xbBMIp8wwvQJ",
        "outputId": "143389fa-9183-4df5-8b82-209e1b9f6433"
      },
      "execution_count": 50,
      "outputs": [
        {
          "output_type": "stream",
          "name": "stdout",
          "text": [
            "Set is : {1, 2, 3, 4, 5}\n"
          ]
        }
      ]
    },
    {
      "cell_type": "markdown",
      "source": [
        "**24.Write a code to add the element 6 to the set {1, 2, 3, 4} ?**"
      ],
      "metadata": {
        "id": "p2TOPvoaw780"
      }
    },
    {
      "cell_type": "code",
      "source": [
        "set = {1,2,3,4}\n",
        "set.add(6)\n",
        "print(\"After Adding 6 :\",set)"
      ],
      "metadata": {
        "colab": {
          "base_uri": "https://localhost:8080/"
        },
        "id": "Wn58cySdw6Lj",
        "outputId": "9a7e0991-4872-431d-c530-7f7c148aaca8"
      },
      "execution_count": 51,
      "outputs": [
        {
          "output_type": "stream",
          "name": "stdout",
          "text": [
            "After Adding 6 : {1, 2, 3, 4, 6}\n"
          ]
        }
      ]
    }
  ]
}